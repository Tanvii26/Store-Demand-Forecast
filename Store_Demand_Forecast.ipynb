{
  "nbformat": 4,
  "nbformat_minor": 0,
  "metadata": {
    "colab": {
      "provenance": [],
      "authorship_tag": "ABX9TyMKSiLvEXm5qhoHQg5EXUc+",
      "include_colab_link": true
    },
    "kernelspec": {
      "name": "python3",
      "display_name": "Python 3"
    },
    "language_info": {
      "name": "python"
    }
  },
  "cells": [
    {
      "cell_type": "markdown",
      "metadata": {
        "id": "view-in-github",
        "colab_type": "text"
      },
      "source": [
        "<a href=\"https://colab.research.google.com/github/Tanvii26/Store-Demand-Forecast/blob/main/Store_Demand_Forecast.ipynb\" target=\"_parent\"><img src=\"https://colab.research.google.com/assets/colab-badge.svg\" alt=\"Open In Colab\"/></a>"
      ]
    },
    {
      "cell_type": "code",
      "execution_count": null,
      "metadata": {
        "id": "Bba3L_I82kyf"
      },
      "outputs": [],
      "source": [
        "%pip install -q upgini catboost #-q = quiet (suppress output msgs during installation)"
      ]
    },
    {
      "cell_type": "markdown",
      "source": [
        "Upgini-> Find and add relevant features to ML pipeline from external/public data souces. Greater features enhance model accuracy & robustness\n",
        "\n",
        "CatBoost-> Algo for gradient boosting on decision trees. \n",
        "\n",
        "\n",
        "*   Gradient Boost - Weak learners are sequentially trained to correct mistakes from previous models.\n",
        "*   Decision Tree - predicts based on if-else conditions. Gradient boost on decision tree builds an ensemble of trees.\n",
        "\n",
        "Each tree is trained to improve prev.\n",
        "\n"
      ],
      "metadata": {
        "id": "3M1n7dgx3wks"
      }
    },
    {
      "cell_type": "code",
      "source": [
        "import pandas as pd\n",
        "\n",
        "df = pd.read_csv('/content/train.csv')"
      ],
      "metadata": {
        "id": "IZsuw_DC3r3P"
      },
      "execution_count": null,
      "outputs": []
    },
    {
      "cell_type": "code",
      "source": [
        "df.head()"
      ],
      "metadata": {
        "colab": {
          "base_uri": "https://localhost:8080/",
          "height": 206
        },
        "id": "-O_7-ZlXwD4h",
        "outputId": "5c109ba3-ac1d-4db4-dd92-8c727c8fd157"
      },
      "execution_count": null,
      "outputs": [
        {
          "output_type": "execute_result",
          "data": {
            "text/plain": [
              "         date store item  sales\n",
              "0  2013-01-01   1.0  1.0   13.0\n",
              "1  2013-01-02   1.0  1.0   11.0\n",
              "2  2013-01-03   1.0  1.0   14.0\n",
              "3  2013-01-04   1.0  1.0   13.0\n",
              "4  2013-01-05   1.0  1.0   10.0"
            ],
            "text/html": [
              "\n",
              "  <div id=\"df-e8cd548d-a611-4ab7-bbe8-db1214c2fab7\">\n",
              "    <div class=\"colab-df-container\">\n",
              "      <div>\n",
              "<style scoped>\n",
              "    .dataframe tbody tr th:only-of-type {\n",
              "        vertical-align: middle;\n",
              "    }\n",
              "\n",
              "    .dataframe tbody tr th {\n",
              "        vertical-align: top;\n",
              "    }\n",
              "\n",
              "    .dataframe thead th {\n",
              "        text-align: right;\n",
              "    }\n",
              "</style>\n",
              "<table border=\"1\" class=\"dataframe\">\n",
              "  <thead>\n",
              "    <tr style=\"text-align: right;\">\n",
              "      <th></th>\n",
              "      <th>date</th>\n",
              "      <th>store</th>\n",
              "      <th>item</th>\n",
              "      <th>sales</th>\n",
              "    </tr>\n",
              "  </thead>\n",
              "  <tbody>\n",
              "    <tr>\n",
              "      <th>0</th>\n",
              "      <td>2013-01-01</td>\n",
              "      <td>1.0</td>\n",
              "      <td>1.0</td>\n",
              "      <td>13.0</td>\n",
              "    </tr>\n",
              "    <tr>\n",
              "      <th>1</th>\n",
              "      <td>2013-01-02</td>\n",
              "      <td>1.0</td>\n",
              "      <td>1.0</td>\n",
              "      <td>11.0</td>\n",
              "    </tr>\n",
              "    <tr>\n",
              "      <th>2</th>\n",
              "      <td>2013-01-03</td>\n",
              "      <td>1.0</td>\n",
              "      <td>1.0</td>\n",
              "      <td>14.0</td>\n",
              "    </tr>\n",
              "    <tr>\n",
              "      <th>3</th>\n",
              "      <td>2013-01-04</td>\n",
              "      <td>1.0</td>\n",
              "      <td>1.0</td>\n",
              "      <td>13.0</td>\n",
              "    </tr>\n",
              "    <tr>\n",
              "      <th>4</th>\n",
              "      <td>2013-01-05</td>\n",
              "      <td>1.0</td>\n",
              "      <td>1.0</td>\n",
              "      <td>10.0</td>\n",
              "    </tr>\n",
              "  </tbody>\n",
              "</table>\n",
              "</div>\n",
              "      <button class=\"colab-df-convert\" onclick=\"convertToInteractive('df-e8cd548d-a611-4ab7-bbe8-db1214c2fab7')\"\n",
              "              title=\"Convert this dataframe to an interactive table.\"\n",
              "              style=\"display:none;\">\n",
              "        \n",
              "  <svg xmlns=\"http://www.w3.org/2000/svg\" height=\"24px\"viewBox=\"0 0 24 24\"\n",
              "       width=\"24px\">\n",
              "    <path d=\"M0 0h24v24H0V0z\" fill=\"none\"/>\n",
              "    <path d=\"M18.56 5.44l.94 2.06.94-2.06 2.06-.94-2.06-.94-.94-2.06-.94 2.06-2.06.94zm-11 1L8.5 8.5l.94-2.06 2.06-.94-2.06-.94L8.5 2.5l-.94 2.06-2.06.94zm10 10l.94 2.06.94-2.06 2.06-.94-2.06-.94-.94-2.06-.94 2.06-2.06.94z\"/><path d=\"M17.41 7.96l-1.37-1.37c-.4-.4-.92-.59-1.43-.59-.52 0-1.04.2-1.43.59L10.3 9.45l-7.72 7.72c-.78.78-.78 2.05 0 2.83L4 21.41c.39.39.9.59 1.41.59.51 0 1.02-.2 1.41-.59l7.78-7.78 2.81-2.81c.8-.78.8-2.07 0-2.86zM5.41 20L4 18.59l7.72-7.72 1.47 1.35L5.41 20z\"/>\n",
              "  </svg>\n",
              "      </button>\n",
              "      \n",
              "  <style>\n",
              "    .colab-df-container {\n",
              "      display:flex;\n",
              "      flex-wrap:wrap;\n",
              "      gap: 12px;\n",
              "    }\n",
              "\n",
              "    .colab-df-convert {\n",
              "      background-color: #E8F0FE;\n",
              "      border: none;\n",
              "      border-radius: 50%;\n",
              "      cursor: pointer;\n",
              "      display: none;\n",
              "      fill: #1967D2;\n",
              "      height: 32px;\n",
              "      padding: 0 0 0 0;\n",
              "      width: 32px;\n",
              "    }\n",
              "\n",
              "    .colab-df-convert:hover {\n",
              "      background-color: #E2EBFA;\n",
              "      box-shadow: 0px 1px 2px rgba(60, 64, 67, 0.3), 0px 1px 3px 1px rgba(60, 64, 67, 0.15);\n",
              "      fill: #174EA6;\n",
              "    }\n",
              "\n",
              "    [theme=dark] .colab-df-convert {\n",
              "      background-color: #3B4455;\n",
              "      fill: #D2E3FC;\n",
              "    }\n",
              "\n",
              "    [theme=dark] .colab-df-convert:hover {\n",
              "      background-color: #434B5C;\n",
              "      box-shadow: 0px 1px 3px 1px rgba(0, 0, 0, 0.15);\n",
              "      filter: drop-shadow(0px 1px 2px rgba(0, 0, 0, 0.3));\n",
              "      fill: #FFFFFF;\n",
              "    }\n",
              "  </style>\n",
              "\n",
              "      <script>\n",
              "        const buttonEl =\n",
              "          document.querySelector('#df-e8cd548d-a611-4ab7-bbe8-db1214c2fab7 button.colab-df-convert');\n",
              "        buttonEl.style.display =\n",
              "          google.colab.kernel.accessAllowed ? 'block' : 'none';\n",
              "\n",
              "        async function convertToInteractive(key) {\n",
              "          const element = document.querySelector('#df-e8cd548d-a611-4ab7-bbe8-db1214c2fab7');\n",
              "          const dataTable =\n",
              "            await google.colab.kernel.invokeFunction('convertToInteractive',\n",
              "                                                     [key], {});\n",
              "          if (!dataTable) return;\n",
              "\n",
              "          const docLinkHtml = 'Like what you see? Visit the ' +\n",
              "            '<a target=\"_blank\" href=https://colab.research.google.com/notebooks/data_table.ipynb>data table notebook</a>'\n",
              "            + ' to learn more about interactive tables.';\n",
              "          element.innerHTML = '';\n",
              "          dataTable['output_type'] = 'display_data';\n",
              "          await google.colab.output.renderOutput(dataTable, element);\n",
              "          const docLink = document.createElement('div');\n",
              "          docLink.innerHTML = docLinkHtml;\n",
              "          element.appendChild(docLink);\n",
              "        }\n",
              "      </script>\n",
              "    </div>\n",
              "  </div>\n",
              "  "
            ]
          },
          "metadata": {},
          "execution_count": 20
        }
      ]
    },
    {
      "cell_type": "code",
      "source": [
        "df['store'] = df['store'].astype(str)\n",
        "df['item'] = df['item'].astype(str)"
      ],
      "metadata": {
        "id": "-d9Hvyc8wKZf"
      },
      "execution_count": null,
      "outputs": []
    },
    {
      "cell_type": "code",
      "source": [
        "df['date'] = pd.to_datetime(df['date'])"
      ],
      "metadata": {
        "id": "zFuWh2jgx8rs"
      },
      "execution_count": null,
      "outputs": []
    },
    {
      "cell_type": "code",
      "source": [
        "df.sort_values('date', inplace=True)\n",
        "df.reset_index(inplace=True, drop=True)"
      ],
      "metadata": {
        "id": "4C4J2MdJ0Lh0"
      },
      "execution_count": null,
      "outputs": []
    },
    {
      "cell_type": "code",
      "source": [
        "df.head()"
      ],
      "metadata": {
        "colab": {
          "base_uri": "https://localhost:8080/",
          "height": 206
        },
        "id": "OJPDWC_O0iS4",
        "outputId": "18334aeb-acf3-4295-e3bb-6b3f48bda6f5"
      },
      "execution_count": null,
      "outputs": [
        {
          "output_type": "execute_result",
          "data": {
            "text/plain": [
              "        date store item  sales\n",
              "0 2013-01-01   1.0  1.0   13.0\n",
              "1 2013-01-01  10.0  9.0   23.0\n",
              "2 2013-01-01   7.0  5.0    5.0\n",
              "3 2013-01-01   3.0  8.0   54.0\n",
              "4 2013-01-01   4.0  7.0   26.0"
            ],
            "text/html": [
              "\n",
              "  <div id=\"df-6e747b78-ed9d-469c-a908-e218b809b830\">\n",
              "    <div class=\"colab-df-container\">\n",
              "      <div>\n",
              "<style scoped>\n",
              "    .dataframe tbody tr th:only-of-type {\n",
              "        vertical-align: middle;\n",
              "    }\n",
              "\n",
              "    .dataframe tbody tr th {\n",
              "        vertical-align: top;\n",
              "    }\n",
              "\n",
              "    .dataframe thead th {\n",
              "        text-align: right;\n",
              "    }\n",
              "</style>\n",
              "<table border=\"1\" class=\"dataframe\">\n",
              "  <thead>\n",
              "    <tr style=\"text-align: right;\">\n",
              "      <th></th>\n",
              "      <th>date</th>\n",
              "      <th>store</th>\n",
              "      <th>item</th>\n",
              "      <th>sales</th>\n",
              "    </tr>\n",
              "  </thead>\n",
              "  <tbody>\n",
              "    <tr>\n",
              "      <th>0</th>\n",
              "      <td>2013-01-01</td>\n",
              "      <td>1.0</td>\n",
              "      <td>1.0</td>\n",
              "      <td>13.0</td>\n",
              "    </tr>\n",
              "    <tr>\n",
              "      <th>1</th>\n",
              "      <td>2013-01-01</td>\n",
              "      <td>10.0</td>\n",
              "      <td>9.0</td>\n",
              "      <td>23.0</td>\n",
              "    </tr>\n",
              "    <tr>\n",
              "      <th>2</th>\n",
              "      <td>2013-01-01</td>\n",
              "      <td>7.0</td>\n",
              "      <td>5.0</td>\n",
              "      <td>5.0</td>\n",
              "    </tr>\n",
              "    <tr>\n",
              "      <th>3</th>\n",
              "      <td>2013-01-01</td>\n",
              "      <td>3.0</td>\n",
              "      <td>8.0</td>\n",
              "      <td>54.0</td>\n",
              "    </tr>\n",
              "    <tr>\n",
              "      <th>4</th>\n",
              "      <td>2013-01-01</td>\n",
              "      <td>4.0</td>\n",
              "      <td>7.0</td>\n",
              "      <td>26.0</td>\n",
              "    </tr>\n",
              "  </tbody>\n",
              "</table>\n",
              "</div>\n",
              "      <button class=\"colab-df-convert\" onclick=\"convertToInteractive('df-6e747b78-ed9d-469c-a908-e218b809b830')\"\n",
              "              title=\"Convert this dataframe to an interactive table.\"\n",
              "              style=\"display:none;\">\n",
              "        \n",
              "  <svg xmlns=\"http://www.w3.org/2000/svg\" height=\"24px\"viewBox=\"0 0 24 24\"\n",
              "       width=\"24px\">\n",
              "    <path d=\"M0 0h24v24H0V0z\" fill=\"none\"/>\n",
              "    <path d=\"M18.56 5.44l.94 2.06.94-2.06 2.06-.94-2.06-.94-.94-2.06-.94 2.06-2.06.94zm-11 1L8.5 8.5l.94-2.06 2.06-.94-2.06-.94L8.5 2.5l-.94 2.06-2.06.94zm10 10l.94 2.06.94-2.06 2.06-.94-2.06-.94-.94-2.06-.94 2.06-2.06.94z\"/><path d=\"M17.41 7.96l-1.37-1.37c-.4-.4-.92-.59-1.43-.59-.52 0-1.04.2-1.43.59L10.3 9.45l-7.72 7.72c-.78.78-.78 2.05 0 2.83L4 21.41c.39.39.9.59 1.41.59.51 0 1.02-.2 1.41-.59l7.78-7.78 2.81-2.81c.8-.78.8-2.07 0-2.86zM5.41 20L4 18.59l7.72-7.72 1.47 1.35L5.41 20z\"/>\n",
              "  </svg>\n",
              "      </button>\n",
              "      \n",
              "  <style>\n",
              "    .colab-df-container {\n",
              "      display:flex;\n",
              "      flex-wrap:wrap;\n",
              "      gap: 12px;\n",
              "    }\n",
              "\n",
              "    .colab-df-convert {\n",
              "      background-color: #E8F0FE;\n",
              "      border: none;\n",
              "      border-radius: 50%;\n",
              "      cursor: pointer;\n",
              "      display: none;\n",
              "      fill: #1967D2;\n",
              "      height: 32px;\n",
              "      padding: 0 0 0 0;\n",
              "      width: 32px;\n",
              "    }\n",
              "\n",
              "    .colab-df-convert:hover {\n",
              "      background-color: #E2EBFA;\n",
              "      box-shadow: 0px 1px 2px rgba(60, 64, 67, 0.3), 0px 1px 3px 1px rgba(60, 64, 67, 0.15);\n",
              "      fill: #174EA6;\n",
              "    }\n",
              "\n",
              "    [theme=dark] .colab-df-convert {\n",
              "      background-color: #3B4455;\n",
              "      fill: #D2E3FC;\n",
              "    }\n",
              "\n",
              "    [theme=dark] .colab-df-convert:hover {\n",
              "      background-color: #434B5C;\n",
              "      box-shadow: 0px 1px 3px 1px rgba(0, 0, 0, 0.15);\n",
              "      filter: drop-shadow(0px 1px 2px rgba(0, 0, 0, 0.3));\n",
              "      fill: #FFFFFF;\n",
              "    }\n",
              "  </style>\n",
              "\n",
              "      <script>\n",
              "        const buttonEl =\n",
              "          document.querySelector('#df-6e747b78-ed9d-469c-a908-e218b809b830 button.colab-df-convert');\n",
              "        buttonEl.style.display =\n",
              "          google.colab.kernel.accessAllowed ? 'block' : 'none';\n",
              "\n",
              "        async function convertToInteractive(key) {\n",
              "          const element = document.querySelector('#df-6e747b78-ed9d-469c-a908-e218b809b830');\n",
              "          const dataTable =\n",
              "            await google.colab.kernel.invokeFunction('convertToInteractive',\n",
              "                                                     [key], {});\n",
              "          if (!dataTable) return;\n",
              "\n",
              "          const docLinkHtml = 'Like what you see? Visit the ' +\n",
              "            '<a target=\"_blank\" href=https://colab.research.google.com/notebooks/data_table.ipynb>data table notebook</a>'\n",
              "            + ' to learn more about interactive tables.';\n",
              "          element.innerHTML = '';\n",
              "          dataTable['output_type'] = 'display_data';\n",
              "          await google.colab.output.renderOutput(dataTable, element);\n",
              "          const docLink = document.createElement('div');\n",
              "          docLink.innerHTML = docLinkHtml;\n",
              "          element.appendChild(docLink);\n",
              "        }\n",
              "      </script>\n",
              "    </div>\n",
              "  </div>\n",
              "  "
            ]
          },
          "metadata": {},
          "execution_count": 27
        }
      ]
    },
    {
      "cell_type": "code",
      "source": [
        "df.dtypes"
      ],
      "metadata": {
        "colab": {
          "base_uri": "https://localhost:8080/"
        },
        "id": "s_8vZGCa1e7F",
        "outputId": "b8bcec11-f27c-49fb-b8b7-2b047ed8a430"
      },
      "execution_count": null,
      "outputs": [
        {
          "output_type": "execute_result",
          "data": {
            "text/plain": [
              "date     datetime64[ns]\n",
              "store            object\n",
              "item             object\n",
              "sales           float64\n",
              "dtype: object"
            ]
          },
          "metadata": {},
          "execution_count": 33
        }
      ]
    },
    {
      "cell_type": "code",
      "source": [
        "# train- 2013 to 2016\n",
        "# test = 2017 data\n",
        "\n",
        "train=df[df['date']<\"2017-01-01\"]\n",
        "\n",
        "test=df[df['date']>= \"2017-01-01\"]"
      ],
      "metadata": {
        "id": "ndAf7WDs08jO"
      },
      "execution_count": null,
      "outputs": []
    },
    {
      "cell_type": "code",
      "source": [
        "train_features = train.drop(columns=[\"sales\"])\n",
        "train_target = train['sales']"
      ],
      "metadata": {
        "id": "xjvsdvU01tUV"
      },
      "execution_count": null,
      "outputs": []
    },
    {
      "cell_type": "code",
      "source": [
        "test_features = test.drop(columns=[\"sales\"])\n",
        "test_target = test[\"sales\"]"
      ],
      "metadata": {
        "id": "e0NmmlSl2FyD"
      },
      "execution_count": null,
      "outputs": []
    },
    {
      "cell_type": "markdown",
      "source": [
        "Enrich features (upgini)"
      ],
      "metadata": {
        "id": "6f7CJszC2Raf"
      }
    },
    {
      "cell_type": "code",
      "source": [
        "from upgini import FeaturesEnricher, SearchKey\n",
        "from upgini.metadata import CVType\n",
        "\n",
        "enricher = FeaturesEnricher(\n",
        "    search_keys={\n",
        "        \"date\": SearchKey.DATE,\n",
        "    },\n",
        "    cv = CVType.time_series\n",
        ")"
      ],
      "metadata": {
        "id": "21L4Yogh2UEG"
      },
      "execution_count": null,
      "outputs": []
    },
    {
      "cell_type": "code",
      "source": [
        "enricher.fit(train_features,train_target, eval_set=[(test_features, test_target)])\n",
        "# shap as imp of features inorder"
      ],
      "metadata": {
        "colab": {
          "base_uri": "https://localhost:8080/",
          "height": 1000
        },
        "id": "gERvMmXH37F7",
        "outputId": "d7ff2aa8-0057-47b6-b933-d7bca6558d6b"
      },
      "execution_count": null,
      "outputs": [
        {
          "output_type": "display_data",
          "data": {
            "text/plain": [
              "<IPython.core.display.Javascript object>"
            ],
            "application/javascript": [
              "\n",
              "                        window.visitorId = import('https://openfpcdn.io/fingerprintjs/v3')\n",
              "                            .then(FingerprintJS => FingerprintJS.load())\n",
              "                            .then(fp => fp.get())\n",
              "                            .then(result => result.visitorId);\n",
              "                    "
            ]
          },
          "metadata": {}
        },
        {
          "output_type": "display_data",
          "data": {
            "text/plain": [
              "<IPython.core.display.Javascript object>"
            ],
            "application/javascript": [
              "\n",
              "                        window.visitorId = import('https://openfpcdn.io/fingerprintjs/v3')\n",
              "                            .then(FingerprintJS => FingerprintJS.load())\n",
              "                            .then(fp => fp.get())\n",
              "                            .then(result => result.visitorId);\n",
              "                    "
            ]
          },
          "metadata": {}
        },
        {
          "output_type": "display_data",
          "data": {
            "text/plain": [
              "<IPython.core.display.Javascript object>"
            ],
            "application/javascript": [
              "\n",
              "                        window.visitorId = import('https://openfpcdn.io/fingerprintjs/v3')\n",
              "                            .then(FingerprintJS => FingerprintJS.load())\n",
              "                            .then(fp => fp.get())\n",
              "                            .then(result => result.visitorId);\n",
              "                    "
            ]
          },
          "metadata": {}
        },
        {
          "output_type": "display_data",
          "data": {
            "text/plain": [
              "<IPython.core.display.Javascript object>"
            ],
            "application/javascript": [
              "\n",
              "                        window.visitorId = import('https://openfpcdn.io/fingerprintjs/v3')\n",
              "                            .then(FingerprintJS => FingerprintJS.load())\n",
              "                            .then(fp => fp.get())\n",
              "                            .then(result => result.visitorId);\n",
              "                    "
            ]
          },
          "metadata": {}
        },
        {
          "output_type": "display_data",
          "data": {
            "text/plain": [
              "<IPython.core.display.Javascript object>"
            ],
            "application/javascript": [
              "\n",
              "                        window.visitorId = import('https://openfpcdn.io/fingerprintjs/v3')\n",
              "                            .then(FingerprintJS => FingerprintJS.load())\n",
              "                            .then(fp => fp.get())\n",
              "                            .then(result => result.visitorId);\n",
              "                    "
            ]
          },
          "metadata": {}
        },
        {
          "output_type": "display_data",
          "data": {
            "text/plain": [
              "<IPython.core.display.Javascript object>"
            ],
            "application/javascript": [
              "\n",
              "                        window.visitorId = import('https://openfpcdn.io/fingerprintjs/v3')\n",
              "                            .then(FingerprintJS => FingerprintJS.load())\n",
              "                            .then(fp => fp.get())\n",
              "                            .then(result => result.visitorId);\n",
              "                    "
            ]
          },
          "metadata": {}
        },
        {
          "output_type": "display_data",
          "data": {
            "text/plain": [
              "<IPython.core.display.Javascript object>"
            ],
            "application/javascript": [
              "\n",
              "                        window.visitorId = import('https://openfpcdn.io/fingerprintjs/v3')\n",
              "                            .then(FingerprintJS => FingerprintJS.load())\n",
              "                            .then(fp => fp.get())\n",
              "                            .then(result => result.visitorId);\n",
              "                    "
            ]
          },
          "metadata": {}
        },
        {
          "output_type": "stream",
          "name": "stdout",
          "text": [
            "WARNING: Search started with DATE search key only\n",
            "Try to add other keys like the COUNTRY, POSTAL_CODE, PHONE NUMBER, EMAIL/HEM, IPv4 to your training dataset\n",
            "for search through all the available data sources.\n",
            "See docs https://github.com/upgini/upgini#-total-239-countries-and-up-to-41-years-of-history\n"
          ]
        },
        {
          "output_type": "display_data",
          "data": {
            "text/plain": [
              "<IPython.core.display.Javascript object>"
            ],
            "application/javascript": [
              "\n",
              "                        window.visitorId = import('https://openfpcdn.io/fingerprintjs/v3')\n",
              "                            .then(FingerprintJS => FingerprintJS.load())\n",
              "                            .then(fp => fp.get())\n",
              "                            .then(result => result.visitorId);\n",
              "                    "
            ]
          },
          "metadata": {}
        },
        {
          "output_type": "display_data",
          "data": {
            "text/plain": [
              "<IPython.core.display.Javascript object>"
            ],
            "application/javascript": [
              "\n",
              "                        window.visitorId = import('https://openfpcdn.io/fingerprintjs/v3')\n",
              "                            .then(FingerprintJS => FingerprintJS.load())\n",
              "                            .then(fp => fp.get())\n",
              "                            .then(result => result.visitorId);\n",
              "                    "
            ]
          },
          "metadata": {}
        },
        {
          "output_type": "display_data",
          "data": {
            "text/plain": [
              "<IPython.core.display.Javascript object>"
            ],
            "application/javascript": [
              "\n",
              "                        window.visitorId = import('https://openfpcdn.io/fingerprintjs/v3')\n",
              "                            .then(FingerprintJS => FingerprintJS.load())\n",
              "                            .then(fp => fp.get())\n",
              "                            .then(result => result.visitorId);\n",
              "                    "
            ]
          },
          "metadata": {}
        },
        {
          "output_type": "stream",
          "name": "stdout",
          "text": [
            "Detected task type: ModelTaskType.REGRESSION\n",
            "\n"
          ]
        },
        {
          "output_type": "display_data",
          "data": {
            "text/plain": [
              "<IPython.core.display.Javascript object>"
            ],
            "application/javascript": [
              "\n",
              "                        window.visitorId = import('https://openfpcdn.io/fingerprintjs/v3')\n",
              "                            .then(FingerprintJS => FingerprintJS.load())\n",
              "                            .then(fp => fp.get())\n",
              "                            .then(result => result.visitorId);\n",
              "                    "
            ]
          },
          "metadata": {}
        },
        {
          "output_type": "display_data",
          "data": {
            "text/plain": [
              "<IPython.core.display.Javascript object>"
            ],
            "application/javascript": [
              "\n",
              "                        window.visitorId = import('https://openfpcdn.io/fingerprintjs/v3')\n",
              "                            .then(FingerprintJS => FingerprintJS.load())\n",
              "                            .then(fp => fp.get())\n",
              "                            .then(result => result.visitorId);\n",
              "                    "
            ]
          },
          "metadata": {}
        },
        {
          "output_type": "display_data",
          "data": {
            "text/plain": [
              "<IPython.core.display.Javascript object>"
            ],
            "application/javascript": [
              "\n",
              "                        window.clientIP = fetch(\"https://api.ipify.org\")\n",
              "                            .then(response => response.text())\n",
              "                            .then(data => data);\n",
              "                    "
            ]
          },
          "metadata": {}
        },
        {
          "output_type": "display_data",
          "data": {
            "text/plain": [
              "<IPython.core.display.Javascript object>"
            ],
            "application/javascript": [
              "\n",
              "                        window.clientIP = fetch(\"https://api.ipify.org\")\n",
              "                            .then(response => response.text())\n",
              "                            .then(data => data);\n",
              "                    "
            ]
          },
          "metadata": {}
        },
        {
          "output_type": "display_data",
          "data": {
            "text/plain": [
              "<IPython.core.display.Javascript object>"
            ],
            "application/javascript": [
              "\n",
              "                        window.clientIP = fetch(\"https://api.ipify.org\")\n",
              "                            .then(response => response.text())\n",
              "                            .then(data => data);\n",
              "                    "
            ]
          },
          "metadata": {}
        },
        {
          "output_type": "display_data",
          "data": {
            "text/plain": [
              "<IPython.core.display.Javascript object>"
            ],
            "application/javascript": [
              "\n",
              "                        window.clientIP = fetch(\"https://api.ipify.org\")\n",
              "                            .then(response => response.text())\n",
              "                            .then(data => data);\n",
              "                    "
            ]
          },
          "metadata": {}
        },
        {
          "output_type": "display_data",
          "data": {
            "text/plain": [
              "<IPython.core.display.Javascript object>"
            ],
            "application/javascript": [
              "\n",
              "                        window.clientIP = fetch(\"https://api.ipify.org\")\n",
              "                            .then(response => response.text())\n",
              "                            .then(data => data);\n",
              "                    "
            ]
          },
          "metadata": {}
        },
        {
          "output_type": "display_data",
          "data": {
            "text/plain": [
              "<IPython.core.display.Javascript object>"
            ],
            "application/javascript": [
              "\n",
              "                        window.clientIP = fetch(\"https://api.ipify.org\")\n",
              "                            .then(response => response.text())\n",
              "                            .then(data => data);\n",
              "                    "
            ]
          },
          "metadata": {}
        },
        {
          "output_type": "display_data",
          "data": {
            "text/plain": [
              "<IPython.core.display.Javascript object>"
            ],
            "application/javascript": [
              "\n",
              "                        window.clientIP = fetch(\"https://api.ipify.org\")\n",
              "                            .then(response => response.text())\n",
              "                            .then(data => data);\n",
              "                    "
            ]
          },
          "metadata": {}
        },
        {
          "output_type": "display_data",
          "data": {
            "text/plain": [
              "<IPython.core.display.Javascript object>"
            ],
            "application/javascript": [
              "\n",
              "                        window.clientIP = fetch(\"https://api.ipify.org\")\n",
              "                            .then(response => response.text())\n",
              "                            .then(data => data);\n",
              "                    "
            ]
          },
          "metadata": {}
        },
        {
          "output_type": "display_data",
          "data": {
            "text/plain": [
              "<IPython.core.display.Javascript object>"
            ],
            "application/javascript": [
              "\n",
              "                        window.clientIP = fetch(\"https://api.ipify.org\")\n",
              "                            .then(response => response.text())\n",
              "                            .then(data => data);\n",
              "                    "
            ]
          },
          "metadata": {}
        },
        {
          "output_type": "display_data",
          "data": {
            "text/plain": [
              "<IPython.core.display.Javascript object>"
            ],
            "application/javascript": [
              "\n",
              "                        window.clientIP = fetch(\"https://api.ipify.org\")\n",
              "                            .then(response => response.text())\n",
              "                            .then(data => data);\n",
              "                    "
            ]
          },
          "metadata": {}
        },
        {
          "output_type": "display_data",
          "data": {
            "text/plain": [
              "<IPython.core.display.Javascript object>"
            ],
            "application/javascript": [
              "\n",
              "                        window.clientIP = fetch(\"https://api.ipify.org\")\n",
              "                            .then(response => response.text())\n",
              "                            .then(data => data);\n",
              "                    "
            ]
          },
          "metadata": {}
        },
        {
          "output_type": "display_data",
          "data": {
            "text/plain": [
              "<IPython.core.display.Javascript object>"
            ],
            "application/javascript": [
              "\n",
              "                        window.clientIP = fetch(\"https://api.ipify.org\")\n",
              "                            .then(response => response.text())\n",
              "                            .then(data => data);\n",
              "                    "
            ]
          },
          "metadata": {}
        },
        {
          "output_type": "stream",
          "name": "stdout",
          "text": [
            "Search key country_code `US` was automatically determined by client IP. \n",
            "See docs to turn off the automatic detection: https://github.com/upgini/upgini/blob/main/README.md#turn-off-autodetection-for-search-key-columns\n"
          ]
        },
        {
          "output_type": "display_data",
          "data": {
            "text/plain": [
              "<IPython.core.display.HTML object>"
            ],
            "text/html": [
              "<table><tr><th style='font-weight:bold'>Column name</th><th style='font-weight:bold'>Status</th><th style='font-weight:bold'>Errors</th></tr><tr><td>country_code</td><td style='background-color:#DAF7A6;color:black'>All valid</td><td>-</td></tr><tr><td>date</td><td style='background-color:#DAF7A6;color:black'>All valid</td><td>-</td></tr><tr><td>target</td><td style='background-color:#DAF7A6;color:black'>All valid</td><td>-</td></tr></table>"
            ]
          },
          "metadata": {}
        },
        {
          "output_type": "stream",
          "name": "stdout",
          "text": [
            "\n",
            "Running search request, search_id=4a95204c-ab7f-4b5b-996e-e77182870696\n",
            "We'll send email notification once it's completed, just use your personal api_key from profile.upgini.com\n",
            "\n",
            "\u001b[92m\u001b[1m\n",
            "32 relevant feature(s) found with the search keys: ['date', 'country_code']\u001b[0m\n"
          ]
        },
        {
          "output_type": "display_data",
          "data": {
            "text/plain": [
              "<IPython.core.display.HTML object>"
            ],
            "text/html": [
              "<style>\n",
              "            .upgini-df thead th {\n",
              "                font-weight:bold;\n",
              "                text-align: right;\n",
              "                padding: 0.5em;\n",
              "            }\n",
              "\n",
              "            .upgini-df td {\n",
              "                padding: 0.5em;\n",
              "            }\n",
              "\n",
              "            .upgini-text {\n",
              "                text-align: right;\n",
              "            }\n",
              "\n",
              "            .upgini-number {\n",
              "                text-align: center;\n",
              "            }\n",
              "        </style><table class='upgini-df'><thead><th>Provider</th><th>Source</th><th>Feature name</th><th>SHAP value</th><th>Coverage %</th><th>Type</th><th>Feature type</th></thead><tbody><tr><td class='upgini-text'></td><td class='upgini-text'></td><td class='upgini-text'>item</td><td class='upgini-number'>0.630688</td><td class='upgini-number'>100.000000</td><td class='upgini-text'>categorical</td><td class='upgini-text'></td></tr><tr><td class='upgini-text'></td><td class='upgini-text'></td><td class='upgini-text'>store</td><td class='upgini-number'>0.185218</td><td class='upgini-number'>100.000000</td><td class='upgini-text'>categorical</td><td class='upgini-text'></td></tr><tr><td class='upgini-text'><a href='https://upgini.com' target='_blank' rel='noopener noreferrer'>Upgini</a></td><td class='upgini-text'><a href='https://upgini.com/#data_sources' target='_blank' rel='noopener noreferrer'>Public data</a></td><td class='upgini-text'><a href='https://docs.upgini.com/public/weather/weather_pca#f_weather_date_weather_pca_0_d7e0a1fc' target='_blank' rel='noopener noreferrer'>f_weather_date_weather_pca_0_d7e0a1fc</a></td><td class='upgini-number'>0.036801</td><td class='upgini-number'>100.000000</td><td class='upgini-text'>numerical</td><td class='upgini-text'>Free</td></tr><tr><td class='upgini-text'><a href='https://upgini.com' target='_blank' rel='noopener noreferrer'>Upgini</a></td><td class='upgini-text'><a href='https://upgini.com/#data_sources' target='_blank' rel='noopener noreferrer'>Public data</a></td><td class='upgini-text'><a href='https://docs.upgini.com/public/calendar/calendar_stats#f_events_country_date_weekday_9c7b0a2a' target='_blank' rel='noopener noreferrer'>f_events_country_date_weekday_9c7b0a2a</a></td><td class='upgini-number'>0.029645</td><td class='upgini-number'>100.000000</td><td class='upgini-text'>numerical</td><td class='upgini-text'>Free</td></tr><tr><td class='upgini-text'><a href='https://upgini.com' target='_blank' rel='noopener noreferrer'>Upgini</a></td><td class='upgini-text'><a href='https://upgini.com/#data_sources' target='_blank' rel='noopener noreferrer'>Public data</a></td><td class='upgini-text'><a href='https://docs.upgini.com/public/calendar/calendar#f_events_date_year_cos1_9014a856' target='_blank' rel='noopener noreferrer'>f_events_date_year_cos1_9014a856</a></td><td class='upgini-number'>0.019381</td><td class='upgini-number'>100.000000</td><td class='upgini-text'>numerical</td><td class='upgini-text'>Free</td></tr><tr><td class='upgini-text'><a href='https://upgini.com' target='_blank' rel='noopener noreferrer'>Upgini</a></td><td class='upgini-text'><a href='https://upgini.com/#data_sources' target='_blank' rel='noopener noreferrer'>Public data</a></td><td class='upgini-text'><a href='https://docs.upgini.com/public/calendar/calendar#f_events_date_week_sin1_847b5db1' target='_blank' rel='noopener noreferrer'>f_events_date_week_sin1_847b5db1</a></td><td class='upgini-number'>0.015857</td><td class='upgini-number'>100.000000</td><td class='upgini-text'>numerical</td><td class='upgini-text'>Free</td></tr><tr><td class='upgini-text'><a href='https://upgini.com' target='_blank' rel='noopener noreferrer'>Upgini</a></td><td class='upgini-text'><a href='https://upgini.com/#data_sources' target='_blank' rel='noopener noreferrer'>Public data</a></td><td class='upgini-text'><a href='https://docs.upgini.com/public/calendar/calendar#f_events_date_week_cos3_7525fe31' target='_blank' rel='noopener noreferrer'>f_events_date_week_cos3_7525fe31</a></td><td class='upgini-number'>0.013647</td><td class='upgini-number'>100.000000</td><td class='upgini-text'>numerical</td><td class='upgini-text'>Free</td></tr><tr><td class='upgini-text'><a href='https://upgini.com' target='_blank' rel='noopener noreferrer'>Upgini</a></td><td class='upgini-text'><a href='https://upgini.com/#data_sources' target='_blank' rel='noopener noreferrer'>Public data</a></td><td class='upgini-text'><a href='https://docs.upgini.com/public/calendar/holiday_clustered#f_events_country_date_holiday_state_legal_84d_ahead_f83d666e' target='_blank' rel='noopener noreferrer'>f_events_country_date_holiday_state_legal_84d_ahead_f83d666e</a></td><td class='upgini-number'>0.010619</td><td class='upgini-number'>100.000000</td><td class='upgini-text'>numerical</td><td class='upgini-text'>Free</td></tr><tr><td class='upgini-text'><a href='https://upgini.com' target='_blank' rel='noopener noreferrer'>Upgini</a></td><td class='upgini-text'><a href='https://upgini.com/#data_sources' target='_blank' rel='noopener noreferrer'>Public data</a></td><td class='upgini-text'><a href='https://docs.upgini.com/public/weather/weather_umap#f_weather_date_weather_umap_31_fa6d9a99' target='_blank' rel='noopener noreferrer'>f_weather_date_weather_umap_31_fa6d9a99</a></td><td class='upgini-number'>0.010505</td><td class='upgini-number'>100.000000</td><td class='upgini-text'>numerical</td><td class='upgini-text'>Free</td></tr><tr><td class='upgini-text'><a href='https://upgini.com' target='_blank' rel='noopener noreferrer'>Upgini</a></td><td class='upgini-text'><a href='https://upgini.com/#data_sources' target='_blank' rel='noopener noreferrer'>Public data</a></td><td class='upgini-text'><a href='https://docs.upgini.com/public/weather/weather_umap#f_weather_date_weather_umap_48_b39cd0c4' target='_blank' rel='noopener noreferrer'>f_weather_date_weather_umap_48_b39cd0c4</a></td><td class='upgini-number'>0.008400</td><td class='upgini-number'>100.000000</td><td class='upgini-text'>numerical</td><td class='upgini-text'>Free</td></tr><tr><td class='upgini-text'><a href='https://upgini.com' target='_blank' rel='noopener noreferrer'>Upgini</a></td><td class='upgini-text'><a href='https://upgini.com/#data_sources' target='_blank' rel='noopener noreferrer'>Public data</a></td><td class='upgini-text'><a href='https://docs.upgini.com/public/weather/weather_umap#f_weather_date_weather_umap_34_c3ef5b4f' target='_blank' rel='noopener noreferrer'>f_weather_date_weather_umap_34_c3ef5b4f</a></td><td class='upgini-number'>0.006889</td><td class='upgini-number'>100.000000</td><td class='upgini-text'>numerical</td><td class='upgini-text'>Free</td></tr><tr><td class='upgini-text'><a href='https://upgini.com' target='_blank' rel='noopener noreferrer'>Upgini</a></td><td class='upgini-text'><a href='https://upgini.com/#data_sources' target='_blank' rel='noopener noreferrer'>Public data</a></td><td class='upgini-text'><a href='https://docs.upgini.com/public/weather/weather_country#f_weather_country_date_tavg_avg_9f0e1bbc' target='_blank' rel='noopener noreferrer'>f_weather_country_date_tavg_avg_9f0e1bbc</a></td><td class='upgini-number'>0.003947</td><td class='upgini-number'>100.000000</td><td class='upgini-text'>numerical</td><td class='upgini-text'>Free</td></tr><tr><td class='upgini-text'><a href='https://upgini.com' target='_blank' rel='noopener noreferrer'>Upgini</a></td><td class='upgini-text'><a href='https://upgini.com/#data_sources' target='_blank' rel='noopener noreferrer'>Public data</a></td><td class='upgini-text'><a href='https://docs.upgini.com/public/economics/cpi#f_economic_country_date_pcpir_ix_472746d4' target='_blank' rel='noopener noreferrer'>f_economic_country_date_pcpir_ix_472746d4</a></td><td class='upgini-number'>0.002722</td><td class='upgini-number'>100.000000</td><td class='upgini-text'>numerical</td><td class='upgini-text'>Free</td></tr><tr><td class='upgini-text'><a href='https://upgini.com' target='_blank' rel='noopener noreferrer'>Upgini</a></td><td class='upgini-text'><a href='https://upgini.com/#data_sources' target='_blank' rel='noopener noreferrer'>Public data</a></td><td class='upgini-text'><a href='https://docs.upgini.com/public/weather/weather_umap#f_weather_date_weather_umap_33_89bb7578' target='_blank' rel='noopener noreferrer'>f_weather_date_weather_umap_33_89bb7578</a></td><td class='upgini-number'>0.002270</td><td class='upgini-number'>100.000000</td><td class='upgini-text'>numerical</td><td class='upgini-text'>Free</td></tr><tr><td class='upgini-text'><a href='https://upgini.com' target='_blank' rel='noopener noreferrer'>Upgini</a></td><td class='upgini-text'><a href='https://upgini.com/#data_sources' target='_blank' rel='noopener noreferrer'>Public data</a></td><td class='upgini-text'><a href='https://docs.upgini.com/public/economics/cci#f_economic_country_date_cci_6m_shift_9da982e5' target='_blank' rel='noopener noreferrer'>f_economic_country_date_cci_6m_shift_9da982e5</a></td><td class='upgini-number'>0.001180</td><td class='upgini-number'>100.000000</td><td class='upgini-text'>numerical</td><td class='upgini-text'>Free</td></tr><tr><td class='upgini-text'><a href='https://upgini.com' target='_blank' rel='noopener noreferrer'>Upgini</a></td><td class='upgini-text'><a href='https://upgini.com/#data_sources' target='_blank' rel='noopener noreferrer'>Public data</a></td><td class='upgini-text'><a href='https://docs.upgini.com/public/markets/finance#f_financial_date_gold_7d_to_7d_1y_shift_935515c0' target='_blank' rel='noopener noreferrer'>f_financial_date_gold_7d_to_7d_1y_shift_935515c0</a></td><td class='upgini-number'>0.001102</td><td class='upgini-number'>100.000000</td><td class='upgini-text'>numerical</td><td class='upgini-text'>Free</td></tr><tr><td class='upgini-text'><a href='https://upgini.com' target='_blank' rel='noopener noreferrer'>Upgini</a></td><td class='upgini-text'><a href='https://upgini.com/#data_sources' target='_blank' rel='noopener noreferrer'>Public data</a></td><td class='upgini-text'><a href='https://docs.upgini.com/public/markets/finance#f_financial_date_nasdaq_7d_to_1y_62ed0967' target='_blank' rel='noopener noreferrer'>f_financial_date_nasdaq_7d_to_1y_62ed0967</a></td><td class='upgini-number'>0.001079</td><td class='upgini-number'>100.000000</td><td class='upgini-text'>numerical</td><td class='upgini-text'>Free</td></tr><tr><td class='upgini-text'><a href='https://upgini.com' target='_blank' rel='noopener noreferrer'>Upgini</a></td><td class='upgini-text'><a href='https://upgini.com/#data_sources' target='_blank' rel='noopener noreferrer'>Public data</a></td><td class='upgini-text'><a href='https://docs.upgini.com/public/economics/cci#f_economic_country_date_cci_diff_6m_shift_e7cd4fc7' target='_blank' rel='noopener noreferrer'>f_economic_country_date_cci_diff_6m_shift_e7cd4fc7</a></td><td class='upgini-number'>0.000781</td><td class='upgini-number'>100.000000</td><td class='upgini-text'>numerical</td><td class='upgini-text'>Free</td></tr><tr><td class='upgini-text'><a href='https://upgini.com' target='_blank' rel='noopener noreferrer'>Upgini</a></td><td class='upgini-text'><a href='https://upgini.com/#data_sources' target='_blank' rel='noopener noreferrer'>Public data</a></td><td class='upgini-text'><a href='https://docs.upgini.com/public/weather/weather_umap#f_weather_date_weather_umap_13_842ae1fc' target='_blank' rel='noopener noreferrer'>f_weather_date_weather_umap_13_842ae1fc</a></td><td class='upgini-number'>0.000630</td><td class='upgini-number'>100.000000</td><td class='upgini-text'>numerical</td><td class='upgini-text'>Free</td></tr><tr><td class='upgini-text'><a href='https://upgini.com' target='_blank' rel='noopener noreferrer'>Upgini</a></td><td class='upgini-text'><a href='https://upgini.com/#data_sources' target='_blank' rel='noopener noreferrer'>Public data</a></td><td class='upgini-text'><a href='https://docs.upgini.com/public/economics/cpi#f_economic_country_date_pcpit_pc_cp_a_pt_e8a7a1f2' target='_blank' rel='noopener noreferrer'>f_economic_country_date_pcpit_pc_cp_a_pt_e8a7a1f2</a></td><td class='upgini-number'>0.000628</td><td class='upgini-number'>100.000000</td><td class='upgini-text'>numerical</td><td class='upgini-text'>Free</td></tr><tr><td class='upgini-text'><a href='https://upgini.com' target='_blank' rel='noopener noreferrer'>Upgini</a></td><td class='upgini-text'><a href='https://upgini.com/#data_sources' target='_blank' rel='noopener noreferrer'>Public data</a></td><td class='upgini-text'><a href='https://docs.upgini.com/public/economics/cbpol_pca#f_economic_date_cbpol_pca_9_bde660b4' target='_blank' rel='noopener noreferrer'>f_economic_date_cbpol_pca_9_bde660b4</a></td><td class='upgini-number'>0.000534</td><td class='upgini-number'>100.000000</td><td class='upgini-text'>numerical</td><td class='upgini-text'>Free</td></tr><tr><td class='upgini-text'><a href='https://upgini.com' target='_blank' rel='noopener noreferrer'>Upgini</a></td><td class='upgini-text'><a href='https://upgini.com/#data_sources' target='_blank' rel='noopener noreferrer'>Public data</a></td><td class='upgini-text'><a href='https://docs.upgini.com/public/economics/cbpol_pca#f_economic_date_cbpol_pca_4_be889d56' target='_blank' rel='noopener noreferrer'>f_economic_date_cbpol_pca_4_be889d56</a></td><td class='upgini-number'>0.000507</td><td class='upgini-number'>100.000000</td><td class='upgini-text'>numerical</td><td class='upgini-text'>Free</td></tr><tr><td class='upgini-text'><a href='https://upgini.com' target='_blank' rel='noopener noreferrer'>Upgini</a></td><td class='upgini-text'><a href='https://upgini.com/#data_sources' target='_blank' rel='noopener noreferrer'>Public data</a></td><td class='upgini-text'><a href='https://docs.upgini.com/public/economics/cpi#f_economic_country_date_pcpifbt_pc_cp_a_pt_7dd41f09' target='_blank' rel='noopener noreferrer'>f_economic_country_date_pcpifbt_pc_cp_a_pt_7dd41f09</a></td><td class='upgini-number'>0.000426</td><td class='upgini-number'>100.000000</td><td class='upgini-text'>numerical</td><td class='upgini-text'>Free</td></tr><tr><td class='upgini-text'><a href='https://upgini.com' target='_blank' rel='noopener noreferrer'>Upgini</a></td><td class='upgini-text'><a href='https://upgini.com/#data_sources' target='_blank' rel='noopener noreferrer'>Public data</a></td><td class='upgini-text'><a href='https://docs.upgini.com/public/economics/cpi#f_economic_country_date_pcpiec_pc_cp_a_pt_b56febd8' target='_blank' rel='noopener noreferrer'>f_economic_country_date_pcpiec_pc_cp_a_pt_b56febd8</a></td><td class='upgini-number'>0.000418</td><td class='upgini-number'>100.000000</td><td class='upgini-text'>numerical</td><td class='upgini-text'>Free</td></tr><tr><td class='upgini-text'><a href='https://upgini.com' target='_blank' rel='noopener noreferrer'>Upgini</a></td><td class='upgini-text'><a href='https://upgini.com/#data_sources' target='_blank' rel='noopener noreferrer'>Public data</a></td><td class='upgini-text'><a href='https://docs.upgini.com/public/weather/weather_umap#f_weather_date_weather_umap_16_25ac8b87' target='_blank' rel='noopener noreferrer'>f_weather_date_weather_umap_16_25ac8b87</a></td><td class='upgini-number'>0.000403</td><td class='upgini-number'>100.000000</td><td class='upgini-text'>numerical</td><td class='upgini-text'>Free</td></tr><tr><td class='upgini-text'><a href='https://upgini.com' target='_blank' rel='noopener noreferrer'>Upgini</a></td><td class='upgini-text'><a href='https://upgini.com/#data_sources' target='_blank' rel='noopener noreferrer'>Public data</a></td><td class='upgini-text'><a href='https://docs.upgini.com/public/weather/weather_umap#f_weather_date_weather_umap_7_6ef8b038' target='_blank' rel='noopener noreferrer'>f_weather_date_weather_umap_7_6ef8b038</a></td><td class='upgini-number'>0.000376</td><td class='upgini-number'>100.000000</td><td class='upgini-text'>numerical</td><td class='upgini-text'>Free</td></tr><tr><td class='upgini-text'><a href='https://upgini.com' target='_blank' rel='noopener noreferrer'>Upgini</a></td><td class='upgini-text'><a href='https://upgini.com/#data_sources' target='_blank' rel='noopener noreferrer'>Public data</a></td><td class='upgini-text'><a href='https://docs.upgini.com/public/markets/finance_umap#f_financial_date_finance_umap_0_526a7a88' target='_blank' rel='noopener noreferrer'>f_financial_date_finance_umap_0_526a7a88</a></td><td class='upgini-number'>0.000278</td><td class='upgini-number'>100.000000</td><td class='upgini-text'>numerical</td><td class='upgini-text'>Free</td></tr><tr><td class='upgini-text'><a href='https://upgini.com' target='_blank' rel='noopener noreferrer'>Upgini</a></td><td class='upgini-text'><a href='https://upgini.com/#data_sources' target='_blank' rel='noopener noreferrer'>Public data</a></td><td class='upgini-text'><a href='https://docs.upgini.com/public/weather/weather_umap#f_weather_date_weather_umap_1_68679173' target='_blank' rel='noopener noreferrer'>f_weather_date_weather_umap_1_68679173</a></td><td class='upgini-number'>0.000239</td><td class='upgini-number'>100.000000</td><td class='upgini-text'>numerical</td><td class='upgini-text'>Free</td></tr><tr><td class='upgini-text'><a href='https://upgini.com' target='_blank' rel='noopener noreferrer'>Upgini</a></td><td class='upgini-text'><a href='https://upgini.com/#data_sources' target='_blank' rel='noopener noreferrer'>Public data</a></td><td class='upgini-text'><a href='https://docs.upgini.com/public/weather/weather_umap#f_weather_date_weather_umap_22_0342ee9e' target='_blank' rel='noopener noreferrer'>f_weather_date_weather_umap_22_0342ee9e</a></td><td class='upgini-number'>0.000217</td><td class='upgini-number'>100.000000</td><td class='upgini-text'>numerical</td><td class='upgini-text'>Free</td></tr><tr><td class='upgini-text'><a href='https://upgini.com' target='_blank' rel='noopener noreferrer'>Upgini</a></td><td class='upgini-text'><a href='https://upgini.com/#data_sources' target='_blank' rel='noopener noreferrer'>Public data</a></td><td class='upgini-text'><a href='https://docs.upgini.com/public/markets/finance_umap#f_financial_date_finance_umap_4_8f334325' target='_blank' rel='noopener noreferrer'>f_financial_date_finance_umap_4_8f334325</a></td><td class='upgini-number'>0.000207</td><td class='upgini-number'>100.000000</td><td class='upgini-text'>numerical</td><td class='upgini-text'>Free</td></tr><tr><td class='upgini-text'><a href='https://upgini.com' target='_blank' rel='noopener noreferrer'>Upgini</a></td><td class='upgini-text'><a href='https://upgini.com/#data_sources' target='_blank' rel='noopener noreferrer'>Public data</a></td><td class='upgini-text'><a href='https://docs.upgini.com/public/economics/cpi#f_economic_country_date_pcpih_pc_cp_a_pt_b15f2634' target='_blank' rel='noopener noreferrer'>f_economic_country_date_pcpih_pc_cp_a_pt_b15f2634</a></td><td class='upgini-number'>0.000196</td><td class='upgini-number'>100.000000</td><td class='upgini-text'>numerical</td><td class='upgini-text'>Free</td></tr><tr><td class='upgini-text'><a href='https://upgini.com' target='_blank' rel='noopener noreferrer'>Upgini</a></td><td class='upgini-text'><a href='https://upgini.com/#data_sources' target='_blank' rel='noopener noreferrer'>Public data</a></td><td class='upgini-text'><a href='https://docs.upgini.com/public/markets/finance#f_financial_date_silver_7d_to_1y_b364a149' target='_blank' rel='noopener noreferrer'>f_financial_date_silver_7d_to_1y_b364a149</a></td><td class='upgini-number'>0.000192</td><td class='upgini-number'>100.000000</td><td class='upgini-text'>numerical</td><td class='upgini-text'>Free</td></tr><tr><td class='upgini-text'><a href='https://upgini.com' target='_blank' rel='noopener noreferrer'>Upgini</a></td><td class='upgini-text'><a href='https://upgini.com/#data_sources' target='_blank' rel='noopener noreferrer'>Public data</a></td><td class='upgini-text'><a href='https://docs.upgini.com/public/calendar/holiday_clustered#f_events_country_date_holiday_code_3d_ahead_b21d49c6' target='_blank' rel='noopener noreferrer'>f_events_country_date_holiday_code_3d_ahead_b21d49c6</a></td><td class='upgini-number'>0.000138</td><td class='upgini-number'>100.000000</td><td class='upgini-text'>numerical</td><td class='upgini-text'>Free</td></tr><tr><td class='upgini-text'><a href='https://upgini.com' target='_blank' rel='noopener noreferrer'>Upgini</a></td><td class='upgini-text'><a href='https://upgini.com/#data_sources' target='_blank' rel='noopener noreferrer'>Public data</a></td><td class='upgini-text'><a href='https://docs.upgini.com/public/weather/weather_umap#f_weather_date_weather_umap_37_14cab469' target='_blank' rel='noopener noreferrer'>f_weather_date_weather_umap_37_14cab469</a></td><td class='upgini-number'>0.000118</td><td class='upgini-number'>100.000000</td><td class='upgini-text'>numerical</td><td class='upgini-text'>Free</td></tr></tbody></table>"
            ]
          },
          "metadata": {}
        },
        {
          "output_type": "stream",
          "name": "stdout",
          "text": [
            "We detected 609 outliers in your sample.\n",
            "Examples of outliers with maximum value of target:\n",
            "263    181.0\n",
            "535    178.0\n",
            "193    177.0\n",
            "Name: target, dtype: float64\n",
            "Outliers will be excluded during the metrics calculation.\n",
            "Before dropping target outliers size: 173153\n",
            "After dropping target outliers size: 172544\n",
            "Calculating accuracy uplift after enrichment...\n",
            "WARNING: y distributions from the training sample and eval_set differ according to the Kolmogorov-Smirnov test,\n",
            "which makes metrics between the train and eval_set incomparable.\n",
            "\u001b[92m\u001b[1m\n",
            "Quality metrics\u001b[0m\n"
          ]
        },
        {
          "output_type": "display_data",
          "data": {
            "text/plain": [
              "          Rows  Baseline mean_squared_error  Enriched mean_squared_error  \\\n",
              "                                                                           \n",
              "Train   138490                   213.409498                    86.115911   \n",
              "Eval 1   34054                   356.829301                   229.831601   \n",
              "\n",
              "            Uplift  \n",
              "                    \n",
              "Train   127.293587  \n",
              "Eval 1  126.997699  "
            ],
            "text/html": [
              "\n",
              "  <div id=\"df-f9b51c88-9e39-48dc-8581-df4e3e1f8e65\">\n",
              "    <div class=\"colab-df-container\">\n",
              "      <div>\n",
              "<style scoped>\n",
              "    .dataframe tbody tr th:only-of-type {\n",
              "        vertical-align: middle;\n",
              "    }\n",
              "\n",
              "    .dataframe tbody tr th {\n",
              "        vertical-align: top;\n",
              "    }\n",
              "\n",
              "    .dataframe thead th {\n",
              "        text-align: right;\n",
              "    }\n",
              "</style>\n",
              "<table border=\"1\" class=\"dataframe\">\n",
              "  <thead>\n",
              "    <tr style=\"text-align: right;\">\n",
              "      <th></th>\n",
              "      <th>Rows</th>\n",
              "      <th>Baseline mean_squared_error</th>\n",
              "      <th>Enriched mean_squared_error</th>\n",
              "      <th>Uplift</th>\n",
              "    </tr>\n",
              "    <tr>\n",
              "      <th></th>\n",
              "      <th></th>\n",
              "      <th></th>\n",
              "      <th></th>\n",
              "      <th></th>\n",
              "    </tr>\n",
              "  </thead>\n",
              "  <tbody>\n",
              "    <tr>\n",
              "      <th>Train</th>\n",
              "      <td>138490</td>\n",
              "      <td>213.409498</td>\n",
              "      <td>86.115911</td>\n",
              "      <td>127.293587</td>\n",
              "    </tr>\n",
              "    <tr>\n",
              "      <th>Eval 1</th>\n",
              "      <td>34054</td>\n",
              "      <td>356.829301</td>\n",
              "      <td>229.831601</td>\n",
              "      <td>126.997699</td>\n",
              "    </tr>\n",
              "  </tbody>\n",
              "</table>\n",
              "</div>\n",
              "      <button class=\"colab-df-convert\" onclick=\"convertToInteractive('df-f9b51c88-9e39-48dc-8581-df4e3e1f8e65')\"\n",
              "              title=\"Convert this dataframe to an interactive table.\"\n",
              "              style=\"display:none;\">\n",
              "        \n",
              "  <svg xmlns=\"http://www.w3.org/2000/svg\" height=\"24px\"viewBox=\"0 0 24 24\"\n",
              "       width=\"24px\">\n",
              "    <path d=\"M0 0h24v24H0V0z\" fill=\"none\"/>\n",
              "    <path d=\"M18.56 5.44l.94 2.06.94-2.06 2.06-.94-2.06-.94-.94-2.06-.94 2.06-2.06.94zm-11 1L8.5 8.5l.94-2.06 2.06-.94-2.06-.94L8.5 2.5l-.94 2.06-2.06.94zm10 10l.94 2.06.94-2.06 2.06-.94-2.06-.94-.94-2.06-.94 2.06-2.06.94z\"/><path d=\"M17.41 7.96l-1.37-1.37c-.4-.4-.92-.59-1.43-.59-.52 0-1.04.2-1.43.59L10.3 9.45l-7.72 7.72c-.78.78-.78 2.05 0 2.83L4 21.41c.39.39.9.59 1.41.59.51 0 1.02-.2 1.41-.59l7.78-7.78 2.81-2.81c.8-.78.8-2.07 0-2.86zM5.41 20L4 18.59l7.72-7.72 1.47 1.35L5.41 20z\"/>\n",
              "  </svg>\n",
              "      </button>\n",
              "      \n",
              "  <style>\n",
              "    .colab-df-container {\n",
              "      display:flex;\n",
              "      flex-wrap:wrap;\n",
              "      gap: 12px;\n",
              "    }\n",
              "\n",
              "    .colab-df-convert {\n",
              "      background-color: #E8F0FE;\n",
              "      border: none;\n",
              "      border-radius: 50%;\n",
              "      cursor: pointer;\n",
              "      display: none;\n",
              "      fill: #1967D2;\n",
              "      height: 32px;\n",
              "      padding: 0 0 0 0;\n",
              "      width: 32px;\n",
              "    }\n",
              "\n",
              "    .colab-df-convert:hover {\n",
              "      background-color: #E2EBFA;\n",
              "      box-shadow: 0px 1px 2px rgba(60, 64, 67, 0.3), 0px 1px 3px 1px rgba(60, 64, 67, 0.15);\n",
              "      fill: #174EA6;\n",
              "    }\n",
              "\n",
              "    [theme=dark] .colab-df-convert {\n",
              "      background-color: #3B4455;\n",
              "      fill: #D2E3FC;\n",
              "    }\n",
              "\n",
              "    [theme=dark] .colab-df-convert:hover {\n",
              "      background-color: #434B5C;\n",
              "      box-shadow: 0px 1px 3px 1px rgba(0, 0, 0, 0.15);\n",
              "      filter: drop-shadow(0px 1px 2px rgba(0, 0, 0, 0.3));\n",
              "      fill: #FFFFFF;\n",
              "    }\n",
              "  </style>\n",
              "\n",
              "      <script>\n",
              "        const buttonEl =\n",
              "          document.querySelector('#df-f9b51c88-9e39-48dc-8581-df4e3e1f8e65 button.colab-df-convert');\n",
              "        buttonEl.style.display =\n",
              "          google.colab.kernel.accessAllowed ? 'block' : 'none';\n",
              "\n",
              "        async function convertToInteractive(key) {\n",
              "          const element = document.querySelector('#df-f9b51c88-9e39-48dc-8581-df4e3e1f8e65');\n",
              "          const dataTable =\n",
              "            await google.colab.kernel.invokeFunction('convertToInteractive',\n",
              "                                                     [key], {});\n",
              "          if (!dataTable) return;\n",
              "\n",
              "          const docLinkHtml = 'Like what you see? Visit the ' +\n",
              "            '<a target=\"_blank\" href=https://colab.research.google.com/notebooks/data_table.ipynb>data table notebook</a>'\n",
              "            + ' to learn more about interactive tables.';\n",
              "          element.innerHTML = '';\n",
              "          dataTable['output_type'] = 'display_data';\n",
              "          await google.colab.output.renderOutput(dataTable, element);\n",
              "          const docLink = document.createElement('div');\n",
              "          docLink.innerHTML = docLinkHtml;\n",
              "          element.appendChild(docLink);\n",
              "        }\n",
              "      </script>\n",
              "    </div>\n",
              "  </div>\n",
              "  "
            ]
          },
          "metadata": {}
        }
      ]
    },
    {
      "cell_type": "code",
      "source": [
        "from catboost import CatBoostRegressor\n",
        "from catboost.utils import eval_metric"
      ],
      "metadata": {
        "id": "1KkVc1Hc6qAz"
      },
      "execution_count": null,
      "outputs": []
    },
    {
      "cell_type": "code",
      "source": [
        "model = CatBoostRegressor(verbose=False, allow_writing_files=False, random_state=0)"
      ],
      "metadata": {
        "id": "MsCAudEGBl1A"
      },
      "execution_count": null,
      "outputs": []
    },
    {
      "cell_type": "code",
      "source": [
        "enriched_train_features = enricher.transform(train_features, keep_input=True)\n",
        "enriched_test_features = enricher.transform(test_features, keep_input=True)"
      ],
      "metadata": {
        "id": "E75Dprwk_LrQ"
      },
      "execution_count": null,
      "outputs": []
    },
    {
      "cell_type": "code",
      "source": [
        "model.fit(enriched_train_features, train_target)\n",
        "\n",
        "pred = model.predict(enriched_test_features)\n",
        "eval_metric(test_target.values, pred, \"SMAPE\")"
      ],
      "metadata": {
        "colab": {
          "base_uri": "https://localhost:8080/"
        },
        "id": "T-bkYEr1BPJv",
        "outputId": "ceb69533-3cd5-4f6c-a593-4cca38772371"
      },
      "execution_count": null,
      "outputs": [
        {
          "output_type": "execute_result",
          "data": {
            "text/plain": [
              "[14.833930339659467]"
            ]
          },
          "metadata": {},
          "execution_count": 46
        }
      ]
    },
    {
      "cell_type": "code",
      "source": [
        "pred.shape"
      ],
      "metadata": {
        "colab": {
          "base_uri": "https://localhost:8080/"
        },
        "id": "iao6LHuMEOQF",
        "outputId": "ccaa8bdf-b99e-4237-c363-e40452062333"
      },
      "execution_count": null,
      "outputs": [
        {
          "output_type": "execute_result",
          "data": {
            "text/plain": [
              "(34358,)"
            ]
          },
          "metadata": {},
          "execution_count": 47
        }
      ]
    },
    {
      "cell_type": "code",
      "source": [
        "# store predictions\n",
        "predictions = pd.DataFrame(pred)\n",
        "sub_df = pd.read_csv('/content/sample_submission.csv')\n",
        "datasets=pd.concat([sub_df['id'],predictions], axis=1)\n",
        "datasets.columns=['id','sales']\n",
        "datasets.to_csv('/content/sample_submission.csv', index=False)"
      ],
      "metadata": {
        "id": "1DjAVROcDeOo"
      },
      "execution_count": null,
      "outputs": []
    }
  ]
}